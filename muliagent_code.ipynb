{
 "cells": [
  {
   "cell_type": "code",
   "execution_count": 7,
   "metadata": {},
   "outputs": [
    {
     "ename": "KeyError",
     "evalue": "'passed'",
     "output_type": "error",
     "traceback": [
      "\u001b[31m---------------------------------------------------------------------------\u001b[39m",
      "\u001b[31mKeyError\u001b[39m                                  Traceback (most recent call last)",
      "\u001b[36mCell\u001b[39m\u001b[36m \u001b[39m\u001b[32mIn[7]\u001b[39m\u001b[32m, line 9\u001b[39m\n\u001b[32m      5\u001b[39m     \u001b[38;5;28;01mfor\u001b[39;00m f \u001b[38;5;129;01min\u001b[39;00m glob.glob(\u001b[33mf\u001b[39m\u001b[33m\"\u001b[39m\u001b[33mraw_results/\u001b[39m\u001b[38;5;132;01m{\u001b[39;00mcfg\u001b[38;5;132;01m}\u001b[39;00m\u001b[33m/HumanEval_*.json\u001b[39m\u001b[33m\"\u001b[39m):\n\u001b[32m      6\u001b[39m         d = json.load(\u001b[38;5;28mopen\u001b[39m(f))\n\u001b[32m      7\u001b[39m         rows.append({\u001b[33m\"\u001b[39m\u001b[33mtask\u001b[39m\u001b[33m\"\u001b[39m: os.path.basename(f)[:-\u001b[32m5\u001b[39m],\n\u001b[32m      8\u001b[39m                      \u001b[33m\"\u001b[39m\u001b[33mconfig\u001b[39m\u001b[33m\"\u001b[39m: cfg,\n\u001b[32m----> \u001b[39m\u001b[32m9\u001b[39m                      \u001b[33m\"\u001b[39m\u001b[33mpassed\u001b[39m\u001b[33m\"\u001b[39m: \u001b[43md\u001b[49m\u001b[43m[\u001b[49m\u001b[33;43m\"\u001b[39;49m\u001b[33;43mpassed\u001b[39;49m\u001b[33;43m\"\u001b[39;49m\u001b[43m]\u001b[49m,\n\u001b[32m     10\u001b[39m                      \u001b[33m\"\u001b[39m\u001b[33mtokens\u001b[39m\u001b[33m\"\u001b[39m: d[\u001b[33m\"\u001b[39m\u001b[33mtokens\u001b[39m\u001b[33m\"\u001b[39m]})\n\u001b[32m     12\u001b[39m df = pd.DataFrame(rows)\n\u001b[32m     13\u001b[39m pivot = df.pivot(index=\u001b[33m\"\u001b[39m\u001b[33mtask\u001b[39m\u001b[33m\"\u001b[39m, columns=\u001b[33m\"\u001b[39m\u001b[33mconfig\u001b[39m\u001b[33m\"\u001b[39m, values=\u001b[33m\"\u001b[39m\u001b[33mpassed\u001b[39m\u001b[33m\"\u001b[39m)\n",
      "\u001b[31mKeyError\u001b[39m: 'passed'"
     ]
    }
   ],
   "source": [
    "import pandas as pd, glob, json, os\n",
    "\n",
    "rows = []\n",
    "for cfg in [\"SINGLE\",\"MULTI\"]:\n",
    "    for f in glob.glob(f\"raw_results/{cfg}/HumanEval_*.json\"):\n",
    "        d = json.load(open(f))\n",
    "        rows.append({\"task\": os.path.basename(f)[:-5],\n",
    "                     \"config\": cfg,\n",
    "                     \"passed\": d[\"passed\"],\n",
    "                     \"tokens\": d[\"tokens\"]})\n",
    "\n",
    "df = pd.DataFrame(rows)\n",
    "pivot = df.pivot(index=\"task\", columns=\"config\", values=\"passed\")\n",
    "print(\"MULTI가 추가로 통과한 문제 수:\",\n",
    "      ((pivot[\"MULTI\"]==True) & (pivot[\"SINGLE\"]==False)).sum())\n"
   ]
  }
 ],
 "metadata": {
  "kernelspec": {
   "display_name": "Python 3",
   "language": "python",
   "name": "python3"
  },
  "language_info": {
   "codemirror_mode": {
    "name": "ipython",
    "version": 3
   },
   "file_extension": ".py",
   "mimetype": "text/x-python",
   "name": "python",
   "nbconvert_exporter": "python",
   "pygments_lexer": "ipython3",
   "version": "3.11.11"
  }
 },
 "nbformat": 4,
 "nbformat_minor": 2
}
